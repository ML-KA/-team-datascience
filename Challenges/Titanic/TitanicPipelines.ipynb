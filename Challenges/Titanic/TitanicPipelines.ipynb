{
 "cells": [
  {
   "cell_type": "markdown",
   "metadata": {
    "deletable": true,
    "editable": true
   },
   "source": [
    "# Titanic - Predictive Modelling with scikit-learn Pipelines"
   ]
  },
  {
   "cell_type": "markdown",
   "metadata": {
    "deletable": true,
    "editable": true
   },
   "source": [
    "## Preamble"
   ]
  },
  {
   "cell_type": "code",
   "execution_count": 1,
   "metadata": {
    "collapsed": true,
    "deletable": true,
    "editable": true
   },
   "outputs": [],
   "source": [
    "%matplotlib inline"
   ]
  },
  {
   "cell_type": "code",
   "execution_count": 2,
   "metadata": {
    "collapsed": true,
    "deletable": true,
    "editable": true
   },
   "outputs": [],
   "source": [
    "import pandas\n",
    "import seaborn\n",
    "seaborn.set_style(\"whitegrid\")\n",
    "seaborn.set_palette(seaborn.color_palette(\"GnBu_d\"))\n",
    "import numpy"
   ]
  },
  {
   "cell_type": "code",
   "execution_count": 3,
   "metadata": {
    "collapsed": false,
    "deletable": true,
    "editable": true
   },
   "outputs": [
    {
     "name": "stderr",
     "output_type": "stream",
     "text": [
      "/usr/local/lib/python3.6/site-packages/sklearn/cross_validation.py:44: DeprecationWarning: This module was deprecated in version 0.18 in favor of the model_selection module into which all the refactored classes and functions are moved. Also note that the interface of the new CV iterators are different from that of this module. This module will be removed in 0.20.\n",
      "  \"This module will be removed in 0.20.\", DeprecationWarning)\n",
      "/usr/local/lib/python3.6/site-packages/sklearn/grid_search.py:43: DeprecationWarning: This module was deprecated in version 0.18 in favor of the model_selection module into which all the refactored classes and functions are moved. This module will be removed in 0.20.\n",
      "  DeprecationWarning)\n",
      "/usr/local/lib/python3.6/site-packages/sklearn/lda.py:6: DeprecationWarning: lda.LDA has been moved to discriminant_analysis.LinearDiscriminantAnalysis in 0.17 and will be removed in 0.19\n",
      "  \"in 0.17 and will be removed in 0.19\", DeprecationWarning)\n",
      "/usr/local/lib/python3.6/site-packages/sklearn/learning_curve.py:23: DeprecationWarning: This module was deprecated in version 0.18 in favor of the model_selection module into which all the functions are moved. This module will be removed in 0.20\n",
      "  DeprecationWarning)\n",
      "/usr/local/lib/python3.6/site-packages/sklearn/qda.py:6: DeprecationWarning: qda.QDA has been moved to discriminant_analysis.QuadraticDiscriminantAnalysis in 0.17 and will be removed in 0.19.\n",
      "  \"in 0.17 and will be removed in 0.19.\", DeprecationWarning)\n"
     ]
    }
   ],
   "source": [
    "import sklearn\n",
    "from sklearn import *"
   ]
  },
  {
   "cell_type": "markdown",
   "metadata": {
    "deletable": true,
    "editable": true
   },
   "source": [
    "## Getting the Data"
   ]
  },
  {
   "cell_type": "code",
   "execution_count": 4,
   "metadata": {
    "collapsed": true,
    "deletable": true,
    "editable": true
   },
   "outputs": [],
   "source": [
    "trainData = pandas.read_csv(\"train.csv\", index_col=0)\n",
    "testData = pandas.read_csv(\"test.csv\", index_col=0)"
   ]
  },
  {
   "cell_type": "code",
   "execution_count": 5,
   "metadata": {
    "collapsed": true,
    "deletable": true,
    "editable": true
   },
   "outputs": [],
   "source": [
    "responseVariable = \"Survived\""
   ]
  },
  {
   "cell_type": "code",
   "execution_count": 6,
   "metadata": {
    "collapsed": false,
    "deletable": true,
    "editable": true
   },
   "outputs": [
    {
     "data": {
      "text/html": [
       "<div>\n",
       "<table border=\"1\" class=\"dataframe\">\n",
       "  <thead>\n",
       "    <tr style=\"text-align: right;\">\n",
       "      <th></th>\n",
       "      <th>Survived</th>\n",
       "      <th>Pclass</th>\n",
       "      <th>Name</th>\n",
       "      <th>Sex</th>\n",
       "      <th>Age</th>\n",
       "      <th>SibSp</th>\n",
       "      <th>Parch</th>\n",
       "      <th>Ticket</th>\n",
       "      <th>Fare</th>\n",
       "      <th>Cabin</th>\n",
       "      <th>Embarked</th>\n",
       "    </tr>\n",
       "    <tr>\n",
       "      <th>PassengerId</th>\n",
       "      <th></th>\n",
       "      <th></th>\n",
       "      <th></th>\n",
       "      <th></th>\n",
       "      <th></th>\n",
       "      <th></th>\n",
       "      <th></th>\n",
       "      <th></th>\n",
       "      <th></th>\n",
       "      <th></th>\n",
       "      <th></th>\n",
       "    </tr>\n",
       "  </thead>\n",
       "  <tbody>\n",
       "    <tr>\n",
       "      <th>1</th>\n",
       "      <td>0</td>\n",
       "      <td>3</td>\n",
       "      <td>Braund, Mr. Owen Harris</td>\n",
       "      <td>male</td>\n",
       "      <td>22.0</td>\n",
       "      <td>1</td>\n",
       "      <td>0</td>\n",
       "      <td>A/5 21171</td>\n",
       "      <td>7.2500</td>\n",
       "      <td>NaN</td>\n",
       "      <td>S</td>\n",
       "    </tr>\n",
       "    <tr>\n",
       "      <th>2</th>\n",
       "      <td>1</td>\n",
       "      <td>1</td>\n",
       "      <td>Cumings, Mrs. John Bradley (Florence Briggs Th...</td>\n",
       "      <td>female</td>\n",
       "      <td>38.0</td>\n",
       "      <td>1</td>\n",
       "      <td>0</td>\n",
       "      <td>PC 17599</td>\n",
       "      <td>71.2833</td>\n",
       "      <td>C85</td>\n",
       "      <td>C</td>\n",
       "    </tr>\n",
       "    <tr>\n",
       "      <th>3</th>\n",
       "      <td>1</td>\n",
       "      <td>3</td>\n",
       "      <td>Heikkinen, Miss. Laina</td>\n",
       "      <td>female</td>\n",
       "      <td>26.0</td>\n",
       "      <td>0</td>\n",
       "      <td>0</td>\n",
       "      <td>STON/O2. 3101282</td>\n",
       "      <td>7.9250</td>\n",
       "      <td>NaN</td>\n",
       "      <td>S</td>\n",
       "    </tr>\n",
       "    <tr>\n",
       "      <th>4</th>\n",
       "      <td>1</td>\n",
       "      <td>1</td>\n",
       "      <td>Futrelle, Mrs. Jacques Heath (Lily May Peel)</td>\n",
       "      <td>female</td>\n",
       "      <td>35.0</td>\n",
       "      <td>1</td>\n",
       "      <td>0</td>\n",
       "      <td>113803</td>\n",
       "      <td>53.1000</td>\n",
       "      <td>C123</td>\n",
       "      <td>S</td>\n",
       "    </tr>\n",
       "    <tr>\n",
       "      <th>5</th>\n",
       "      <td>0</td>\n",
       "      <td>3</td>\n",
       "      <td>Allen, Mr. William Henry</td>\n",
       "      <td>male</td>\n",
       "      <td>35.0</td>\n",
       "      <td>0</td>\n",
       "      <td>0</td>\n",
       "      <td>373450</td>\n",
       "      <td>8.0500</td>\n",
       "      <td>NaN</td>\n",
       "      <td>S</td>\n",
       "    </tr>\n",
       "  </tbody>\n",
       "</table>\n",
       "</div>"
      ],
      "text/plain": [
       "             Survived  Pclass  \\\n",
       "PassengerId                     \n",
       "1                   0       3   \n",
       "2                   1       1   \n",
       "3                   1       3   \n",
       "4                   1       1   \n",
       "5                   0       3   \n",
       "\n",
       "                                                          Name     Sex   Age  \\\n",
       "PassengerId                                                                    \n",
       "1                                      Braund, Mr. Owen Harris    male  22.0   \n",
       "2            Cumings, Mrs. John Bradley (Florence Briggs Th...  female  38.0   \n",
       "3                                       Heikkinen, Miss. Laina  female  26.0   \n",
       "4                 Futrelle, Mrs. Jacques Heath (Lily May Peel)  female  35.0   \n",
       "5                                     Allen, Mr. William Henry    male  35.0   \n",
       "\n",
       "             SibSp  Parch            Ticket     Fare Cabin Embarked  \n",
       "PassengerId                                                          \n",
       "1                1      0         A/5 21171   7.2500   NaN        S  \n",
       "2                1      0          PC 17599  71.2833   C85        C  \n",
       "3                0      0  STON/O2. 3101282   7.9250   NaN        S  \n",
       "4                1      0            113803  53.1000  C123        S  \n",
       "5                0      0            373450   8.0500   NaN        S  "
      ]
     },
     "execution_count": 6,
     "metadata": {},
     "output_type": "execute_result"
    }
   ],
   "source": [
    "trainData.head()"
   ]
  },
  {
   "cell_type": "code",
   "execution_count": 7,
   "metadata": {
    "collapsed": false,
    "deletable": true,
    "editable": true
   },
   "outputs": [
    {
     "data": {
      "text/html": [
       "<div>\n",
       "<table border=\"1\" class=\"dataframe\">\n",
       "  <thead>\n",
       "    <tr style=\"text-align: right;\">\n",
       "      <th></th>\n",
       "      <th>Pclass</th>\n",
       "      <th>Name</th>\n",
       "      <th>Sex</th>\n",
       "      <th>Age</th>\n",
       "      <th>SibSp</th>\n",
       "      <th>Parch</th>\n",
       "      <th>Ticket</th>\n",
       "      <th>Fare</th>\n",
       "      <th>Cabin</th>\n",
       "      <th>Embarked</th>\n",
       "    </tr>\n",
       "    <tr>\n",
       "      <th>PassengerId</th>\n",
       "      <th></th>\n",
       "      <th></th>\n",
       "      <th></th>\n",
       "      <th></th>\n",
       "      <th></th>\n",
       "      <th></th>\n",
       "      <th></th>\n",
       "      <th></th>\n",
       "      <th></th>\n",
       "      <th></th>\n",
       "    </tr>\n",
       "  </thead>\n",
       "  <tbody>\n",
       "    <tr>\n",
       "      <th>892</th>\n",
       "      <td>3</td>\n",
       "      <td>Kelly, Mr. James</td>\n",
       "      <td>male</td>\n",
       "      <td>34.5</td>\n",
       "      <td>0</td>\n",
       "      <td>0</td>\n",
       "      <td>330911</td>\n",
       "      <td>7.8292</td>\n",
       "      <td>NaN</td>\n",
       "      <td>Q</td>\n",
       "    </tr>\n",
       "    <tr>\n",
       "      <th>893</th>\n",
       "      <td>3</td>\n",
       "      <td>Wilkes, Mrs. James (Ellen Needs)</td>\n",
       "      <td>female</td>\n",
       "      <td>47.0</td>\n",
       "      <td>1</td>\n",
       "      <td>0</td>\n",
       "      <td>363272</td>\n",
       "      <td>7.0000</td>\n",
       "      <td>NaN</td>\n",
       "      <td>S</td>\n",
       "    </tr>\n",
       "    <tr>\n",
       "      <th>894</th>\n",
       "      <td>2</td>\n",
       "      <td>Myles, Mr. Thomas Francis</td>\n",
       "      <td>male</td>\n",
       "      <td>62.0</td>\n",
       "      <td>0</td>\n",
       "      <td>0</td>\n",
       "      <td>240276</td>\n",
       "      <td>9.6875</td>\n",
       "      <td>NaN</td>\n",
       "      <td>Q</td>\n",
       "    </tr>\n",
       "    <tr>\n",
       "      <th>895</th>\n",
       "      <td>3</td>\n",
       "      <td>Wirz, Mr. Albert</td>\n",
       "      <td>male</td>\n",
       "      <td>27.0</td>\n",
       "      <td>0</td>\n",
       "      <td>0</td>\n",
       "      <td>315154</td>\n",
       "      <td>8.6625</td>\n",
       "      <td>NaN</td>\n",
       "      <td>S</td>\n",
       "    </tr>\n",
       "    <tr>\n",
       "      <th>896</th>\n",
       "      <td>3</td>\n",
       "      <td>Hirvonen, Mrs. Alexander (Helga E Lindqvist)</td>\n",
       "      <td>female</td>\n",
       "      <td>22.0</td>\n",
       "      <td>1</td>\n",
       "      <td>1</td>\n",
       "      <td>3101298</td>\n",
       "      <td>12.2875</td>\n",
       "      <td>NaN</td>\n",
       "      <td>S</td>\n",
       "    </tr>\n",
       "  </tbody>\n",
       "</table>\n",
       "</div>"
      ],
      "text/plain": [
       "             Pclass                                          Name     Sex  \\\n",
       "PassengerId                                                                 \n",
       "892               3                              Kelly, Mr. James    male   \n",
       "893               3              Wilkes, Mrs. James (Ellen Needs)  female   \n",
       "894               2                     Myles, Mr. Thomas Francis    male   \n",
       "895               3                              Wirz, Mr. Albert    male   \n",
       "896               3  Hirvonen, Mrs. Alexander (Helga E Lindqvist)  female   \n",
       "\n",
       "              Age  SibSp  Parch   Ticket     Fare Cabin Embarked  \n",
       "PassengerId                                                       \n",
       "892          34.5      0      0   330911   7.8292   NaN        Q  \n",
       "893          47.0      1      0   363272   7.0000   NaN        S  \n",
       "894          62.0      0      0   240276   9.6875   NaN        Q  \n",
       "895          27.0      0      0   315154   8.6625   NaN        S  \n",
       "896          22.0      1      1  3101298  12.2875   NaN        S  "
      ]
     },
     "execution_count": 7,
     "metadata": {},
     "output_type": "execute_result"
    }
   ],
   "source": [
    "testData.head()"
   ]
  },
  {
   "cell_type": "code",
   "execution_count": 8,
   "metadata": {
    "collapsed": true,
    "deletable": true,
    "editable": true
   },
   "outputs": [],
   "source": [
    "\"\"\"\n",
    "VARIABLE DESCRIPTIONS:\n",
    "survival        Survival\n",
    "                (0 = No; 1 = Yes)\n",
    "pclass          Passenger Class\n",
    "                (1 = 1st; 2 = 2nd; 3 = 3rd)\n",
    "name            Name\n",
    "sex             Sex\n",
    "age             Age\n",
    "sibsp           Number of Siblings/Spouses Aboard\n",
    "parch           Number of Parents/Children Aboard\n",
    "ticket          Ticket Number\n",
    "fare            Passenger Fare\n",
    "cabin           Cabin\n",
    "embarked        Port of Embarkation\n",
    "                (C = Cherbourg; Q = Queenstown; S = Southampton)\n",
    "\n",
    "SPECIAL NOTES:\n",
    "Pclass is a proxy for socio-economic status (SES)\n",
    " 1st ~ Upper; 2nd ~ Middle; 3rd ~ Lower\n",
    "\n",
    "Age is in Years; Fractional if Age less than One (1)\n",
    " If the Age is Estimated, it is in the form xx.5\n",
    "\n",
    "With respect to the family relation variables (i.e. sibsp and parch)\n",
    "some relations were ignored.  The following are the definitions used\n",
    "for sibsp and parch.\n",
    "\n",
    "Sibling:  Brother, Sister, Stepbrother, or Stepsister of Passenger Aboard Titanic\n",
    "Spouse:   Husband or Wife of Passenger Aboard Titanic (Mistresses and Fiances Ignored)\n",
    "Parent:   Mother or Father of Passenger Aboard Titanic\n",
    "Child:    Son, Daughter, Stepson, or Stepdaughter of Passenger Aboard Titanic\n",
    "\n",
    "Other family relatives excluded from this study include cousins,\n",
    "nephews/nieces, aunts/uncles, and in-laws.  Some children travelled\n",
    "only with a nanny, therefore parch=0 for them.  As well, some\n",
    "travelled with very close friends or neighbors in a village, however,\n",
    "the definitions do not support such relations.\n",
    "\"\"\";"
   ]
  },
  {
   "cell_type": "code",
   "execution_count": 9,
   "metadata": {
    "collapsed": true,
    "deletable": true,
    "editable": true
   },
   "outputs": [],
   "source": [
    "XTrain = trainData.ix[:, trainData.columns.difference([responseVariable])]\n",
    "yTrain = trainData.ix[:, responseVariable]\n",
    "XTest = testData"
   ]
  },
  {
   "cell_type": "markdown",
   "metadata": {
    "deletable": true,
    "editable": true
   },
   "source": [
    "## Preprocessing"
   ]
  },
  {
   "cell_type": "markdown",
   "metadata": {
    "deletable": true,
    "editable": true
   },
   "source": [
    "### Pipeline Components for Preprocessing"
   ]
  },
  {
   "cell_type": "code",
   "execution_count": 10,
   "metadata": {
    "collapsed": false,
    "deletable": true,
    "editable": true
   },
   "outputs": [],
   "source": [
    "class Categorize(sklearn.base.BaseEstimator, sklearn.base.TransformerMixin):\n",
    "    \"\"\"\n",
    "    Converts given columns into pandas dtype 'category'.\n",
    "    \"\"\"\n",
    "    \n",
    "    def __init__(self, columns, encode=True):\n",
    "        self.columns = columns\n",
    "        self.encode = encode\n",
    "    \n",
    "    def fit(self, X, y):\n",
    "        return self\n",
    "        \n",
    "    \n",
    "    def transform(self, X):\n",
    "        #print(\"categorizing columns: {0}\".format(self.columns))\n",
    "        for column in self.columns:\n",
    "            X[column] = X[column].astype(\"category\")\n",
    "            if self.encode:\n",
    "                X[column] = X[column].cat.codes\n",
    "        return X"
   ]
  },
  {
   "cell_type": "code",
   "execution_count": 11,
   "metadata": {
    "collapsed": false,
    "deletable": true,
    "editable": true
   },
   "outputs": [],
   "source": [
    "class AnnotateMissingValues(sklearn.base.BaseEstimator, sklearn.base.TransformerMixin):\n",
    "    \"\"\"\n",
    "    For any feature that has missing values, create an extra boolean\n",
    "    feature indicating whether the item has a missing values.\n",
    "    \"\"\"\n",
    "    \n",
    "    def fit(self, X, y):\n",
    "        return self\n",
    "    \n",
    "    def transform(self, X):\n",
    "        nullTable = X.isnull().any()\n",
    "        self.nullColumns = [column for (column, isNull) in nullTable.iteritems() if isNull]\n",
    "        #print(\"annotating missing values for columns: {0}\".format(self.nullColumns))\n",
    "        for column in self.nullColumns:\n",
    "            X[\"{0}_Missing\".format(column)] = X[column].isnull()\n",
    "        X = X[sorted(list(X.columns))]\n",
    "        return X\n",
    "    \n",
    "    "
   ]
  },
  {
   "cell_type": "code",
   "execution_count": 12,
   "metadata": {
    "collapsed": false,
    "deletable": true,
    "editable": true
   },
   "outputs": [],
   "source": [
    "class DropColumns(sklearn.base.BaseEstimator, sklearn.base.TransformerMixin):\n",
    "    \"\"\"\n",
    "    Drops all given columns from the data frame.\n",
    "    \"\"\"\n",
    "    \n",
    "    def __init__(self, columns=[]):\n",
    "        self.columns = columns\n",
    "    \n",
    "    def fit(self, X, y):\n",
    "        return self\n",
    "    \n",
    "    def transform(self, X):\n",
    "        #print(\"dropping columns: {0}\".format(self.columns))\n",
    "        X = X.drop(self.columns, axis=1)\n",
    "        return X"
   ]
  },
  {
   "cell_type": "code",
   "execution_count": 13,
   "metadata": {
    "collapsed": false,
    "deletable": true,
    "editable": true
   },
   "outputs": [],
   "source": [
    "class LabelEncodeColumns(sklearn.base.BaseEstimator, sklearn.base.TransformerMixin):\n",
    "    \"\"\"\n",
    "    Applies sklearn.preprocessing.LabelEncoder to multiple columns\n",
    "    \"\"\"\n",
    "    \n",
    "    def __init__(self, columns):\n",
    "        self.columns = columns\n",
    "        \n",
    "    def fit(self, X, y):\n",
    "        return self\n",
    "  \n",
    "    def transform(self, X):\n",
    "        X[self.columns] = X[self.columns].apply(sklearn.preprocessing.LabelEncoder().fit_transform)\n",
    "        return X"
   ]
  },
  {
   "cell_type": "code",
   "execution_count": 40,
   "metadata": {
    "collapsed": false
   },
   "outputs": [],
   "source": [
    "class StandardScaleColumns(sklearn.base.BaseEstimator, sklearn.base.TransformerMixin):\n",
    "    \"\"\"\n",
    "    TODO: work in progress\n",
    "    Applies sklearn.preprocessing.StandardScaler to multiple columns of the DataFrame\n",
    "    \"\"\"\n",
    "    \n",
    "    def __init__(self, columns, dropOriginal=True):\n",
    "        self.columns = columns\n",
    "        self.dropOriginal = dropOriginal # drop the original columns after transformation\n",
    "        \n",
    "    def fit(self, X, y):\n",
    "        toTransform, rest = X[self.columns],  X[X.columns.difference(self.columns)]\n",
    "        toTransformArray = toTransform.as_matrix()\n",
    "        self.scaler = sklearn.preprocessing.StandardScaler().fit(toTransformArray, y)\n",
    "        return self\n",
    "  \n",
    "    def transform(self, X):\n",
    "        toTransform, rest = X[self.columns],  X[X.columns.difference(self.columns)]\n",
    "        transformedArray = self.scaler.transform(X.as_matrix())\n",
    "        transformed = pandas.DataFrame(transformedArray, columns=columns)\n",
    "        \n",
    "    "
   ]
  },
  {
   "cell_type": "code",
   "execution_count": 14,
   "metadata": {
    "collapsed": false,
    "deletable": true,
    "editable": true
   },
   "outputs": [],
   "source": [
    "class AsTransformer(sklearn.base.BaseEstimator):\n",
    "    \"\"\"\n",
    "    Wrap any function in a transformer class.\n",
    "    \"\"\"\n",
    "\n",
    "    def __init__(self, func):\n",
    "        self._func = func\n",
    "\n",
    "    def fit(self, *args, **kwargs):\n",
    "        return self\n",
    "\n",
    "    def transform(self, X, *args, **kwargs):\n",
    "        return self._func(X, *args, **kwargs)"
   ]
  },
  {
   "cell_type": "markdown",
   "metadata": {
    "deletable": true,
    "editable": true
   },
   "source": [
    "### Components for Feature Engineering"
   ]
  },
  {
   "cell_type": "markdown",
   "metadata": {
    "deletable": true,
    "editable": true
   },
   "source": [
    "** extract title from name**"
   ]
  },
  {
   "cell_type": "code",
   "execution_count": 16,
   "metadata": {
    "collapsed": true,
    "deletable": true,
    "editable": true
   },
   "outputs": [],
   "source": [
    "def extractTitles(X):\n",
    "    X[\"Title\"] = X[\"Name\"].apply(lambda name: name.split(\", \")[1].split(\" \")[0])\n",
    "    return X"
   ]
  },
  {
   "cell_type": "markdown",
   "metadata": {
    "deletable": true,
    "editable": true
   },
   "source": [
    "## Preprocessing Pipelines"
   ]
  },
  {
   "cell_type": "code",
   "execution_count": 17,
   "metadata": {
    "collapsed": true,
    "deletable": true,
    "editable": true
   },
   "outputs": [],
   "source": [
    "allColumns = XTrain.columns"
   ]
  },
  {
   "cell_type": "code",
   "execution_count": 18,
   "metadata": {
    "collapsed": true,
    "deletable": true,
    "editable": true
   },
   "outputs": [],
   "source": [
    "categorial = [\"Sex\", \n",
    "              \"Pclass\",\n",
    "              \"Ticket\", # ? can features be extracted from ticket number?\n",
    "              \"Embarked\",\n",
    "              \"Cabin\"\n",
    "             ]"
   ]
  },
  {
   "cell_type": "code",
   "execution_count": 19,
   "metadata": {
    "collapsed": true
   },
   "outputs": [],
   "source": [
    "categorialEngineered = [\"Title\"]"
   ]
  },
  {
   "cell_type": "code",
   "execution_count": 20,
   "metadata": {
    "collapsed": true,
    "deletable": true,
    "editable": true
   },
   "outputs": [],
   "source": [
    "numeric = [\"Age\",\n",
    "          \"SibSp\",\n",
    "          \"Parch\",\n",
    "          \"Fare\"]"
   ]
  },
  {
   "cell_type": "code",
   "execution_count": 21,
   "metadata": {
    "collapsed": true,
    "deletable": true,
    "editable": true
   },
   "outputs": [],
   "source": [
    "from sklearn.pipeline import Pipeline"
   ]
  },
  {
   "cell_type": "code",
   "execution_count": 22,
   "metadata": {
    "collapsed": false,
    "deletable": true,
    "editable": true
   },
   "outputs": [],
   "source": [
    "preprocessingPipelines = {\n",
    "    \"numeric, imputed\": Pipeline(steps = [\n",
    "                                        (\"drop all non-numeric\", DropColumns(allColumns.difference(numeric))),\n",
    "                                        (\"impute missing values\", sklearn.preprocessing.Imputer(missing_values='NaN', strategy='most_frequent', axis=0)),\n",
    "                                        ]\n",
    "                                ),\n",
    "    \"numeric, annotated\": Pipeline(steps = [\n",
    "                                        (\"drop all non-numeric\", DropColumns(allColumns.difference(numeric))),\n",
    "                                        (\"annotate missing values\", AnnotateMissingValues()),\n",
    "                                        (\"impute missing values\", sklearn.preprocessing.Imputer(missing_values='NaN', strategy='most_frequent', axis=0)),\n",
    "                                        ]\n",
    "                                ),\n",
    "    \"categorial, labelled\": Pipeline(steps = [\n",
    "                                        (\"drop name\", DropColumns([\"Name\"])),\n",
    "                                        (\"annotate missing values\", AnnotateMissingValues()),\n",
    "                                        (\"strings to category labels\",  Categorize(categorial)),\n",
    "                                        (\"impute missing values\", sklearn.preprocessing.Imputer(missing_values='NaN', strategy='most_frequent', axis=0)),\n",
    "                                        ]\n",
    "                                ),\n",
    "    \"with title feature\": Pipeline(steps = [\n",
    "                                    (\"engineer title feature\", AsTransformer(extractTitles)),\n",
    "                                    (\"drop name\", DropColumns([\"Name\"])),\n",
    "                                    (\"annotate missing values\", AnnotateMissingValues()),\n",
    "                                    (\"strings to category labels\",  Categorize(categorial + [\"Title\"])),\n",
    "                                    (\"impute missing values\", sklearn.preprocessing.Imputer(missing_values='NaN', strategy='most_frequent', axis=0)),\n",
    "                                    ]\n",
    "                            ),\n",
    "}"
   ]
  },
  {
   "cell_type": "markdown",
   "metadata": {
    "deletable": true,
    "editable": true
   },
   "source": [
    "** Preprocessing test**"
   ]
  },
  {
   "cell_type": "code",
   "execution_count": 23,
   "metadata": {
    "collapsed": false,
    "deletable": true,
    "editable": true
   },
   "outputs": [
    {
     "data": {
      "text/plain": [
       "array([[  22.,    0.,   -1., ...,    1.,  523.,   11.],\n",
       "       [  38.,    0.,   81., ...,    1.,  596.,   12.],\n",
       "       [  26.,    0.,   -1., ...,    0.,  669.,    8.],\n",
       "       ..., \n",
       "       [  24.,    1.,   -1., ...,    1.,  675.,    8.],\n",
       "       [  26.,    0.,   60., ...,    0.,    8.,   11.],\n",
       "       [  32.,    0.,   -1., ...,    0.,  466.,   11.]])"
      ]
     },
     "execution_count": 23,
     "metadata": {},
     "output_type": "execute_result"
    }
   ],
   "source": [
    "preprocessingPipelines[\"with title feature\"].fit(XTrain, yTrain).transform(XTrain)"
   ]
  },
  {
   "cell_type": "markdown",
   "metadata": {
    "deletable": true,
    "editable": true
   },
   "source": [
    "## Prediction"
   ]
  },
  {
   "cell_type": "markdown",
   "metadata": {
    "deletable": true,
    "editable": true
   },
   "source": [
    "### Pipeline Components for Model Selection"
   ]
  },
  {
   "cell_type": "code",
   "execution_count": 24,
   "metadata": {
    "collapsed": false,
    "deletable": true,
    "editable": true
   },
   "outputs": [],
   "source": [
    "class BestByCV(sklearn.base.BaseEstimator):\n",
    "    \"\"\"\n",
    "    Estimator which fits given collection of estimators to the data\n",
    "    and then uses the one for prediction which performs best in a cross-validation.\n",
    "    \"\"\"\n",
    "    \n",
    "    \n",
    "    def __init__(self, estimators, scoring, greaterIsBetter):\n",
    "        self.estimators = estimators # dict: estimator name -> estimator instance\n",
    "        self.scorer = sklearn.metrics.make_scorer(scoring, greater_is_better=greaterIsBetter)\n",
    "        self.greaterIsBetter = greaterIsBetter\n",
    "    \n",
    "    def fit(self, X, y):\n",
    "        # fit estimators to training set\n",
    "        for (estimatorName, estimator) in self.estimators.items():\n",
    "            estimator.fit(X,y)\n",
    "        # run cross-validation to determine scores\n",
    "        self.scores = {}\n",
    "        self.meanScore = {}\n",
    "        for(estimatorName, estimator) in self.estimators.items():\n",
    "            self.scores[estimatorName] = model_selection.cross_val_score(estimator, X, y, scoring=self.scorer)\n",
    "            self.meanScore[estimatorName] = numpy.mean(self.scores[estimatorName])\n",
    "        print(\"mean score for models: \", self.meanScore)\n",
    "        # select estimator with best score\n",
    "        bestEstimatorName = max(self.meanScore, key=self.meanScore.get)\n",
    "        self.bestEstimator = self.estimators[bestEstimatorName]\n",
    "        print(\"best estimator : {0}\".format(bestEstimatorName))\n",
    "        return self\n",
    "    \n",
    "    def getRankingTable(self):\n",
    "        cvScoreData = pandas.DataFrame(list(self.meanScore.items()), columns=[\"estimator\", \"score\"]).sort_values(by=\"score\", ascending=not self.greaterIsBetter)\n",
    "        cvScoreData.index = range(1,len(self.meanScore) + 1)\n",
    "        return cvScoreData\n",
    "    \n",
    "    def plotRanking(self):\n",
    "        import matplotlib.pyplot as plt\n",
    "        cvScores = self.getRankingTable()\n",
    "        plt.figure(figsize=(14,2))\n",
    "        plt.bar(cvScores.index, cvScores[\"score\"])\n",
    "        plt.xticks(cvScores.index, cvScores[\"estimator\"], rotation=25)\n",
    "        plt.suptitle(\"Cross Validation Scores\")\n",
    "        \n",
    "    \n",
    "    def predict(self, X):\n",
    "        return self.bestEstimator.predict(X)\n",
    "        "
   ]
  },
  {
   "cell_type": "markdown",
   "metadata": {
    "deletable": true,
    "editable": true
   },
   "source": [
    "### Test Prediction"
   ]
  },
  {
   "cell_type": "code",
   "execution_count": 25,
   "metadata": {
    "collapsed": false,
    "deletable": true,
    "editable": true
   },
   "outputs": [],
   "source": [
    "classifiers = {\n",
    "                \"Decision Tree\": (tree.DecisionTreeClassifier, {}),\n",
    "                \"Random Forest\": (ensemble.RandomForestClassifier, {}),\n",
    "                \"Naive Bayes\": (naive_bayes.GaussianNB, {}),\n",
    "                \"Support Vector Machine\": (svm.SVC, {}),\n",
    "                \"Nearest Neighbors\" : (neighbors.KNeighborsClassifier, {}),\n",
    "                \"Gradient Boosting (sklearn)\": (ensemble.GradientBoostingClassifier, {\"random_state\": 42}),\n",
    "                \"Logistic Regression\" : (linear_model.logistic.LogisticRegression, {}),\n",
    "                \"Multilayer Perceptron\" : (neural_network.MLPClassifier, {})\n",
    "             }"
   ]
  },
  {
   "cell_type": "code",
   "execution_count": 26,
   "metadata": {
    "collapsed": true,
    "deletable": true,
    "editable": true
   },
   "outputs": [],
   "source": [
    "def instantiate(classesAndParams):\n",
    "    instances = {}\n",
    "    for (name, (Class, params)) in classesAndParams.items():\n",
    "        instances[name] = Class(**params)\n",
    "    return instances\n",
    "    "
   ]
  },
  {
   "cell_type": "code",
   "execution_count": 27,
   "metadata": {
    "collapsed": false,
    "deletable": true,
    "editable": true
   },
   "outputs": [
    {
     "name": "stdout",
     "output_type": "stream",
     "text": [
      "mean score for models:  {'Decision Tree': 0.75196408529741865, 'Random Forest': 0.8136924803591471, 'Naive Bayes': 0.70145903479236804, 'Support Vector Machine': 0.63748597081930425, 'Nearest Neighbors': 0.69921436588103258, 'Gradient Boosting (sklearn)': 0.82267115600448937, 'Logistic Regression': 0.79012345679012341, 'Multilayer Perceptron': 0.73625140291806968}\n",
      "best estimator : Gradient Boosting (sklearn)\n"
     ]
    }
   ],
   "source": [
    "prepro = preprocessingPipelines[\"with title feature\"]\n",
    "model = BestByCV(instantiate(classifiers), scoring=sklearn.metrics.accuracy_score, greaterIsBetter=True)\n",
    "XTrainPre = prepro.fit_transform(XTrain, yTrain)\n",
    "prediction = model.fit(XTrainPre, yTrain).predict(XTrainPre)"
   ]
  },
  {
   "cell_type": "code",
   "execution_count": 28,
   "metadata": {
    "collapsed": false,
    "deletable": true,
    "editable": true
   },
   "outputs": [
    {
     "data": {
      "text/html": [
       "<div>\n",
       "<table border=\"1\" class=\"dataframe\">\n",
       "  <thead>\n",
       "    <tr style=\"text-align: right;\">\n",
       "      <th></th>\n",
       "      <th>estimator</th>\n",
       "      <th>score</th>\n",
       "    </tr>\n",
       "  </thead>\n",
       "  <tbody>\n",
       "    <tr>\n",
       "      <th>1</th>\n",
       "      <td>Gradient Boosting (sklearn)</td>\n",
       "      <td>0.822671</td>\n",
       "    </tr>\n",
       "    <tr>\n",
       "      <th>2</th>\n",
       "      <td>Random Forest</td>\n",
       "      <td>0.813692</td>\n",
       "    </tr>\n",
       "    <tr>\n",
       "      <th>3</th>\n",
       "      <td>Logistic Regression</td>\n",
       "      <td>0.790123</td>\n",
       "    </tr>\n",
       "    <tr>\n",
       "      <th>4</th>\n",
       "      <td>Decision Tree</td>\n",
       "      <td>0.751964</td>\n",
       "    </tr>\n",
       "    <tr>\n",
       "      <th>5</th>\n",
       "      <td>Multilayer Perceptron</td>\n",
       "      <td>0.736251</td>\n",
       "    </tr>\n",
       "    <tr>\n",
       "      <th>6</th>\n",
       "      <td>Naive Bayes</td>\n",
       "      <td>0.701459</td>\n",
       "    </tr>\n",
       "    <tr>\n",
       "      <th>7</th>\n",
       "      <td>Nearest Neighbors</td>\n",
       "      <td>0.699214</td>\n",
       "    </tr>\n",
       "    <tr>\n",
       "      <th>8</th>\n",
       "      <td>Support Vector Machine</td>\n",
       "      <td>0.637486</td>\n",
       "    </tr>\n",
       "  </tbody>\n",
       "</table>\n",
       "</div>"
      ],
      "text/plain": [
       "                     estimator     score\n",
       "1  Gradient Boosting (sklearn)  0.822671\n",
       "2                Random Forest  0.813692\n",
       "3          Logistic Regression  0.790123\n",
       "4                Decision Tree  0.751964\n",
       "5        Multilayer Perceptron  0.736251\n",
       "6                  Naive Bayes  0.701459\n",
       "7            Nearest Neighbors  0.699214\n",
       "8       Support Vector Machine  0.637486"
      ]
     },
     "execution_count": 28,
     "metadata": {},
     "output_type": "execute_result"
    }
   ],
   "source": [
    "model.getRankingTable()"
   ]
  },
  {
   "cell_type": "code",
   "execution_count": 29,
   "metadata": {
    "collapsed": false,
    "deletable": true,
    "editable": true
   },
   "outputs": [
    {
     "data": {
      "image/png": "[encoded data removed]",
      "text/plain": [
       "<matplotlib.figure.Figure at 0x10ca0dd68>"
      ]
     },
     "metadata": {},
     "output_type": "display_data"
    }
   ],
   "source": [
    "model.plotRanking()"
   ]
  },
  {
   "cell_type": "markdown",
   "metadata": {
    "deletable": true,
    "editable": true
   },
   "source": [
    "## Evaluation of Pipelines"
   ]
  },
  {
   "cell_type": "code",
   "execution_count": 31,
   "metadata": {
    "collapsed": false
   },
   "outputs": [
    {
     "ename": "TypeError",
     "evalue": "__init__() missing 3 required positional arguments: 'estimators', 'scoring', and 'greaterIsBetter'",
     "output_type": "error",
     "traceback": [
      "\u001b[0;31m---------------------------------------------------------------------------\u001b[0m",
      "\u001b[0;31mTypeError\u001b[0m                                 Traceback (most recent call last)",
      "\u001b[0;32m<ipython-input-31-5fe11e495a46>\u001b[0m in \u001b[0;36m<module>\u001b[0;34m()\u001b[0m\n\u001b[0;32m----> 1\u001b[0;31m \u001b[0mBestByCV\u001b[0m\u001b[0;34m(\u001b[0m\u001b[0;34m)\u001b[0m\u001b[0;34m\u001b[0m\u001b[0m\n\u001b[0m",
      "\u001b[0;31mTypeError\u001b[0m: __init__() missing 3 required positional arguments: 'estimators', 'scoring', and 'greaterIsBetter'"
     ]
    }
   ],
   "source": [
    "BestByCV()"
   ]
  },
  {
   "cell_type": "markdown",
   "metadata": {
    "deletable": true,
    "editable": true
   },
   "source": [
    "## Prediction #"
   ]
  },
  {
   "cell_type": "code",
   "execution_count": null,
   "metadata": {
    "collapsed": false,
    "deletable": true,
    "editable": true
   },
   "outputs": [],
   "source": [
    "prepro = preprocessingPipelines[\"categorial, labelled\"]\n",
    "prepro.fit(XTrain, yTrain)"
   ]
  },
  {
   "cell_type": "code",
   "execution_count": null,
   "metadata": {
    "collapsed": false,
    "deletable": true,
    "editable": true
   },
   "outputs": [],
   "source": [
    "XTrainPre = prepro.transform(XTrain)\n",
    "XTestPre = prepro.transform(XTest)"
   ]
  },
  {
   "cell_type": "code",
   "execution_count": null,
   "metadata": {
    "collapsed": true,
    "deletable": true,
    "editable": true
   },
   "outputs": [],
   "source": [
    "predictor = BestByCV(instantiate(classifiers), scoring=sklearn.metrics.accuracy_score, greaterIsBetter=True)"
   ]
  },
  {
   "cell_type": "code",
   "execution_count": null,
   "metadata": {
    "collapsed": false,
    "deletable": true,
    "editable": true
   },
   "outputs": [],
   "source": [
    "predictor.fit(XTrainPre, yTrain)"
   ]
  },
  {
   "cell_type": "code",
   "execution_count": null,
   "metadata": {
    "collapsed": false,
    "deletable": true,
    "editable": true
   },
   "outputs": [],
   "source": [
    "predictor.plotRanking()"
   ]
  },
  {
   "cell_type": "code",
   "execution_count": null,
   "metadata": {
    "collapsed": false,
    "deletable": true,
    "editable": true
   },
   "outputs": [],
   "source": [
    "predictions = predictor.predict(XTestPre)"
   ]
  },
  {
   "cell_type": "code",
   "execution_count": null,
   "metadata": {
    "collapsed": false,
    "deletable": true,
    "editable": true
   },
   "outputs": [],
   "source": [
    "print(\"survival rate: {0}\".format((predictions == 1).sum() / predictions.shape[0]))"
   ]
  },
  {
   "cell_type": "markdown",
   "metadata": {
    "deletable": true,
    "editable": true
   },
   "source": [
    "## Upload"
   ]
  },
  {
   "cell_type": "code",
   "execution_count": null,
   "metadata": {
    "collapsed": false,
    "deletable": true,
    "editable": true
   },
   "outputs": [],
   "source": [
    "submission = pandas.DataFrame({\"PassengerId\": testData.index, \"Survived\": pandas.Series(predictions)})"
   ]
  },
  {
   "cell_type": "code",
   "execution_count": null,
   "metadata": {
    "collapsed": false,
    "deletable": true,
    "editable": true
   },
   "outputs": [],
   "source": [
    "submission.head()"
   ]
  },
  {
   "cell_type": "code",
   "execution_count": null,
   "metadata": {
    "collapsed": false,
    "deletable": true,
    "editable": true
   },
   "outputs": [],
   "source": [
    "submission.to_csv(\"submission.csv\", index=False)"
   ]
  },
  {
   "cell_type": "code",
   "execution_count": null,
   "metadata": {
    "collapsed": true,
    "deletable": true,
    "editable": true
   },
   "outputs": [],
   "source": []
  }
 ],
 "metadata": {
  "kernelspec": {
   "display_name": "Python 3",
   "language": "python",
   "name": "python3"
  },
  "language_info": {
   "codemirror_mode": {
    "name": "ipython",
    "version": 3
   },
   "file_extension": ".py",
   "mimetype": "text/x-python",
   "name": "python",
   "nbconvert_exporter": "python",
   "pygments_lexer": "ipython3",
   "version": "3.6.0"
  }
 },
 "nbformat": 4,
 "nbformat_minor": 2
}
